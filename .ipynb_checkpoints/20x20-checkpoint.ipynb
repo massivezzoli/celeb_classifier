{
 "cells": [
  {
   "cell_type": "code",
   "execution_count": 1,
   "metadata": {
    "collapsed": false
   },
   "outputs": [
    {
     "name": "stderr",
     "output_type": "stream",
     "text": [
      "Using TensorFlow backend.\n"
     ]
    }
   ],
   "source": [
    "import tensorflow as tf\n",
    "import numpy as np\n",
    "import os\n",
    "np.random.seed(42)\n",
    "from keras.callbacks import Callback, LambdaCallback\n",
    "from keras.models import Model\n",
    "from keras.layers.normalization import BatchNormalization\n",
    "from keras.layers import Input, Dense, Dropout, Activation, Flatten\n",
    "from keras.layers import Convolution2D, MaxPooling2D\n",
    "from keras.engine.topology import Layer\n",
    "from keras.utils import np_utils\n",
    "from keras import backend as K\n",
    "from keras.models import load_model\n",
    "# big boy utils\n",
    "from utils.configuration import *\n",
    "from utils.load_data import *\n",
    "from utils.pca_tsne import *\n",
    "from utils.load_preprocessed import *\n",
    "# sklearn\n",
    "from sklearn.model_selection import train_test_split as tts\n",
    "from sklearn.preprocessing import LabelEncoder\n",
    "from sklearn.preprocessing import OneHotEncoder\n",
    "enc = OneHotEncoder()\n",
    "lab_enc = LabelEncoder()"
   ]
  },
  {
   "cell_type": "code",
   "execution_count": null,
   "metadata": {
    "collapsed": true
   },
   "outputs": [],
   "source": [
    "all_images1, all_labels1, all_bottles1 = load_preprocessed_data(corpus_dir, bottle_dir, img_dims)\n",
    "\n",
    "lab_le = lab_enc.fit_transform(all_labels1)\n",
    "lab_ohe = enc.fit_transform(lab_le.reshape(-1,1)).toarray()\n",
    "\n",
    "# Split Data into train_test\n",
    "imgs_train, imgs_test, bots_train, bots_test, lab_train_ohe, lab_test = train_test_split(all_images1, all_bottles1,\n",
    "                                                                                         lab_ohe, test_size=0.30,\n",
    "                                                                                         stratify=lab_ohe, random_state=42)\n",
    "# Split train data into train and validation set\n",
    "imgs_val, imgs_test, bots_val, bots_test, lab_val_ohe, lab_test_ohe = train_test_split(imgs_test, bots_test,\n",
    "                                                                                         lab_test, test_size=0.50,\n",
    "                                                                                         stratify=lab_test, random_state=42)"
   ]
  },
  {
   "cell_type": "code",
   "execution_count": null,
   "metadata": {
    "collapsed": true
   },
   "outputs": [],
   "source": [
    "batch_labs = 20\n",
    "lab_list_full = np.unique(all_labels)\n",
    "tot_entities = len(lab_list_full)"
   ]
  },
  {
   "cell_type": "code",
   "execution_count": null,
   "metadata": {
    "collapsed": true
   },
   "outputs": [],
   "source": [
    "def batching(labs, size):\n",
    "    labs_batch = [labs[indx:indx + size] for indx in range(0, len(labs), size)]\n",
    "    return labs_batch\n",
    "def sel_set(lab_list, imgs, bots, labs):\n",
    "    indx = [np.where(labs == a)[0] for a in lab_list]\n",
    "    indx = np.concatenate(indx).ravel()\n",
    "    imgs_out=imgs[indx]\n",
    "    bots_out=bots[indx]\n",
    "    labs_out=labs[indx]\n",
    "    return imgs_out, bots_out, labs_out"
   ]
  },
  {
   "cell_type": "code",
   "execution_count": null,
   "metadata": {
    "collapsed": true
   },
   "outputs": [],
   "source": [
    "#------------\n",
    "# Batching over the entities:\n",
    "#------------\n",
    "counter_1 = 0\n",
    "for i in batching(lab_list_full, batch_labs):\n",
    "    lab_list = i\n",
    "    imgs_train, bots_train, labs_train = sel_set(lab_list, i_train, b_train, l_train)\n",
    "    imgs_val, bots_val, labs_val = sel_set(lab_list, i_val, b_val, l_val)\n",
    "    imgs_test, bots_test, labs_test = sel_set(lab_list, i_test, b_test, l_test)\n",
    "\n",
    "    print(imgs_train.shape)\n",
    "    print(bots_train.shape)\n",
    "    print(labs_train.shape)\n",
    "    print(imgs_test.shape)\n",
    "    print(bots_test.shape)\n",
    "    print(labs_test.shape)"
   ]
  }
 ],
 "metadata": {
  "kernelspec": {
   "display_name": "Python 3",
   "language": "python",
   "name": "python3"
  },
  "language_info": {
   "codemirror_mode": {
    "name": "ipython",
    "version": 3
   },
   "file_extension": ".py",
   "mimetype": "text/x-python",
   "name": "python",
   "nbconvert_exporter": "python",
   "pygments_lexer": "ipython3",
   "version": "3.6.0"
  }
 },
 "nbformat": 4,
 "nbformat_minor": 2
}
