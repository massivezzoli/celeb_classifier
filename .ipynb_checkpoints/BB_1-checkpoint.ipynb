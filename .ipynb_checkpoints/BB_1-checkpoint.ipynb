{
 "cells": [
  {
   "cell_type": "code",
   "execution_count": 1,
   "metadata": {
    "collapsed": false
   },
   "outputs": [
    {
     "name": "stderr",
     "output_type": "stream",
     "text": [
      "Using TensorFlow backend.\n"
     ]
    }
   ],
   "source": [
    "# keras import\n",
    "import numpy as np\n",
    "np.random.seed(42)\n",
    "from keras.models import Model\n",
    "from keras.layers import Input, Dense, Dropout, Activation, Flatten\n",
    "from keras.layers.normalization import BatchNormalization\n",
    "from keras.layers import Convolution2D, MaxPooling2D\n",
    "from keras.utils import np_utils\n",
    "from keras import backend as K\n",
    "# big boy utils\n",
    "from utils.configuration import *\n",
    "from utils.load_data import *\n",
    "from utils.dataset import *\n",
    "from utils.preprocessing import *\n",
    "from utils.model import *\n",
    "from utils.reporting import *\n",
    "from utils.visualization import *\n",
    "from utilis.import_preprocessed import *\n",
    "\n",
    "\n",
    "face_cascade = cv2.CascadeClassifier(face_cascade_path)\n",
    "eye_cascade = cv2.CascadeClassifier(eye_cascade_path)\n",
    "mean_image = np.loadtxt(mean_image_path)"
   ]
  },
  {
   "cell_type": "code",
   "execution_count": 2,
   "metadata": {
    "collapsed": false
   },
   "outputs": [
    {
     "name": "stdout",
     "output_type": "stream",
     "text": [
      "Getting dataframe...\n",
      "Got dataframe.\n",
      "Getting all images...\n",
      "Got all images.\n"
     ]
    }
   ],
   "source": [
    "# Get raw data\n",
    "#df = get_dataframe(data_dir=data_dir, face_cascade=face_cascade, eye_cascade=eye_cascade, num_entities=num_entities, num_images=num_images, rnd_seed=rnd_seed, img_dims=img_dims)\n",
    "#all_images, all_labels, all_bottles = get_all_images(df, data_dir, face_cascade=face_cascade, eye_cascade=eye_cascade, retrain_path=retrain_path, corpus_dir=corpus_dir, bottle_dir=bottle_dir, img_dims=img_dims, normalized=normalized, mean_image=mean_image)\n",
    "#all_images = np.ravel(all_images).reshape(all_images.shape[0], all_images.shape[1] * all_images.shape[2] * all_images.shape[3])\n",
    "\n",
    "all_images, all_labels, all_bottles = load_preprocessed_data(corpus_dir, bottle_dir, img_dims)\n",
    "all_images = np.ravel(all_images).reshape(all_images.shape[0], all_images.shape[1] * all_images.shape[2] * all_images.shape[3])\n",
    "\n",
    "\n",
    "\n",
    "# Get Dataset object\n",
    "ds = Dataset(all_images, all_labels, all_bottles, split=split, one_hot=True, rnd_seed=rnd_seed)\n",
    "n_samples = ds.X.shape[0]\n",
    "n_features = ds.X.shape[1]\n",
    "n_classes = ds.Y.shape[1]\n",
    "\n",
    "#input(\"Press Enter to continue.\")"
   ]
  },
  {
   "cell_type": "code",
   "execution_count": 4,
   "metadata": {
    "collapsed": false
   },
   "outputs": [
    {
     "data": {
      "text/plain": [
       "(2048,)"
      ]
     },
     "execution_count": 4,
     "metadata": {},
     "output_type": "execute_result"
    }
   ],
   "source": [
    "ds.train.bottles[0].shape"
   ]
  },
  {
   "cell_type": "code",
   "execution_count": 5,
   "metadata": {
    "collapsed": false
   },
   "outputs": [
    {
     "name": "stdout",
     "output_type": "stream",
     "text": [
      "layers made!\n",
      "Press Enter to continue.\n"
     ]
    }
   ],
   "source": [
    "# Make the layers:\n",
    "inputs1 = Input(shape=(150, 150, 3))\n",
    "inputs2 = Input(shape=(2048,))\n",
    "\n",
    "x = Convolution2D(32, (3, 3), padding='same', name='c0')(inputs1)\n",
    "x = BatchNormalization(name='c0_bn')(x)\n",
    "x = Activation('relu', name='c0_act')(x)\n",
    "x = MaxPooling2D(pool_size=(2, 2), name='c0_max')(x)\n",
    "\n",
    "x = Convolution2D(32, (3, 3), padding='same', name='c1')(x)\n",
    "x = BatchNormalization(name='c1_bn')(x)\n",
    "x = Activation('relu',name='c1_act')(x)\n",
    "x = MaxPooling2D(pool_size=(2, 2), name='c1_max')(x)\n",
    "\n",
    "x = Convolution2D(32, (3, 3), padding='same', name='c2')(x)\n",
    "x = BatchNormalization(name='c2_bn')(x)\n",
    "x = Activation('relu', name='c2_act')(x)\n",
    "x = MaxPooling2D(pool_size=(2, 2), name='c2_max')(x)\n",
    "\n",
    "x = Flatten(name='flat_0')(x)\n",
    "\n",
    "x = Dense(2048, name='fc_0')(x)\n",
    "x = BatchNormalization(name='fc_0_bn')(x)\n",
    "x = Activation('sigmoid', name='fc_0_act')(x)\n",
    "x = Dropout(0.6, name='fc_0_drop')(x)\n",
    "\n",
    "x = Dense(2048, name='fc_1')(x)\n",
    "x = BatchNormalization(name='fc_1_bn')(x)\n",
    "x = Activation('sigmoid', name='fc_1_act')(x)\n",
    "\n",
    "x = Dense(10, name='fc_2')(x)\n",
    "prediction = Activation('softmax')(x)\n",
    "\n",
    "print('layers made!')\n",
    "#input(\"Press Enter to continue.\")\n",
    "\n",
    "model = Model(inputs=[inputs1, inputs2], outputs=prediction)\n"
   ]
  },
  {
   "cell_type": "code",
   "execution_count": null,
   "metadata": {
    "collapsed": false
   },
   "outputs": [],
   "source": []
  },
  {
   "cell_type": "code",
   "execution_count": null,
   "metadata": {
    "collapsed": true
   },
   "outputs": [],
   "source": []
  },
  {
   "cell_type": "code",
   "execution_count": 7,
   "metadata": {
    "collapsed": false
   },
   "outputs": [
    {
     "name": "stdout",
     "output_type": "stream",
     "text": [
      "_________________________________________________________________\n",
      "Layer (type)                 Output Shape              Param #   \n",
      "=================================================================\n",
      "input_1 (InputLayer)         (None, 150, 150, 3)       0         \n",
      "_________________________________________________________________\n",
      "c0 (Conv2D)                  (None, 150, 150, 32)      896       \n",
      "_________________________________________________________________\n",
      "c0_bn (BatchNormalization)   (None, 150, 150, 32)      128       \n",
      "_________________________________________________________________\n",
      "c0_act (Activation)          (None, 150, 150, 32)      0         \n",
      "_________________________________________________________________\n",
      "c0_max (MaxPooling2D)        (None, 75, 75, 32)        0         \n",
      "_________________________________________________________________\n",
      "c1 (Conv2D)                  (None, 75, 75, 32)        9248      \n",
      "_________________________________________________________________\n",
      "c1_bn (BatchNormalization)   (None, 75, 75, 32)        128       \n",
      "_________________________________________________________________\n",
      "c1_act (Activation)          (None, 75, 75, 32)        0         \n",
      "_________________________________________________________________\n",
      "c1_max (MaxPooling2D)        (None, 37, 37, 32)        0         \n",
      "_________________________________________________________________\n",
      "c2 (Conv2D)                  (None, 37, 37, 32)        9248      \n",
      "_________________________________________________________________\n",
      "c2_bn (BatchNormalization)   (None, 37, 37, 32)        128       \n",
      "_________________________________________________________________\n",
      "c2_act (Activation)          (None, 37, 37, 32)        0         \n",
      "_________________________________________________________________\n",
      "c2_max (MaxPooling2D)        (None, 18, 18, 32)        0         \n",
      "_________________________________________________________________\n",
      "flat_0 (Flatten)             (None, 10368)             0         \n",
      "_________________________________________________________________\n",
      "fc_0 (Dense)                 (None, 2048)              21235712  \n",
      "_________________________________________________________________\n",
      "fc_0_bn (BatchNormalization) (None, 2048)              8192      \n",
      "_________________________________________________________________\n",
      "fc_0_act (Activation)        (None, 2048)              0         \n",
      "_________________________________________________________________\n",
      "fc_0_drop (Dropout)          (None, 2048)              0         \n",
      "_________________________________________________________________\n",
      "fc_1 (Dense)                 (None, 2048)              4196352   \n",
      "_________________________________________________________________\n",
      "fc_1_bn (BatchNormalization) (None, 2048)              8192      \n",
      "_________________________________________________________________\n",
      "fc_1_act (Activation)        (None, 2048)              0         \n",
      "_________________________________________________________________\n",
      "fc_2 (Dense)                 (None, 10)                20490     \n",
      "_________________________________________________________________\n",
      "activation_1 (Activation)    (None, 10)                0         \n",
      "=================================================================\n",
      "Total params: 25,488,714.0\n",
      "Trainable params: 25,480,330.0\n",
      "Non-trainable params: 8,384.0\n",
      "_________________________________________________________________\n"
     ]
    }
   ],
   "source": [
    "model.summary()"
   ]
  },
  {
   "cell_type": "code",
   "execution_count": null,
   "metadata": {
    "collapsed": false
   },
   "outputs": [],
   "source": [
    "model.compile(loss='categorical_crossentropy',\n",
    "              optimizer='adam',\n",
    "              metrics=['accuracy'])\n",
    "\n",
    "model.fit(ds.train.images, ds.train.labels,\n",
    "          batch_size=10, epochs=5, verbose=1)\n"
   ]
  },
  {
   "cell_type": "code",
   "execution_count": null,
   "metadata": {
    "collapsed": true
   },
   "outputs": [],
   "source": [
    "score, accuracy = model.evaluate(ds.test.images, ds.test.labels, verbose=0)\n",
    "print('Test score:', score)\n",
    "print('Test accuracy:', accuracy)"
   ]
  }
 ],
 "metadata": {
  "kernelspec": {
   "display_name": "Python 3",
   "language": "python",
   "name": "python3"
  },
  "language_info": {
   "codemirror_mode": {
    "name": "ipython",
    "version": 3
   },
   "file_extension": ".py",
   "mimetype": "text/x-python",
   "name": "python",
   "nbconvert_exporter": "python",
   "pygments_lexer": "ipython3",
   "version": "3.5.2"
  }
 },
 "nbformat": 4,
 "nbformat_minor": 2
}
