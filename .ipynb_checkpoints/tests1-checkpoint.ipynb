{
 "cells": [
  {
   "cell_type": "code",
   "execution_count": 2,
   "metadata": {
    "collapsed": true
   },
   "outputs": [],
   "source": [
    "import numpy as np\n",
    "import matplotlib.pyplot as plt\n",
    "import matplotlib.colors as colors"
   ]
  },
  {
   "cell_type": "code",
   "execution_count": null,
   "metadata": {
    "collapsed": false
   },
   "outputs": [],
   "source": [
    "from utils.configuration import *\n",
    "#from utils.load_data import *\n",
    "#from utils.dataset import *\n",
    "#from utils.preprocessing import *\n",
    "#from utils.model import *\n",
    "#from utils.reporting import *\n",
    "#from utils.visualization import *\n",
    "#from utils.pca_tsne import *\n",
    "from utils.load_preprocessed import *\n"
   ]
  },
  {
   "cell_type": "code",
   "execution_count": null,
   "metadata": {
    "collapsed": false
   },
   "outputs": [],
   "source": [
    "# Get raw data\n",
    "all_images, all_labels, all_bottles = load_preprocessed_data(corpus_dir, bottle_dir, img_dims)"
   ]
  },
  {
   "cell_type": "code",
   "execution_count": null,
   "metadata": {
    "collapsed": false
   },
   "outputs": [],
   "source": [
    "print(all_images.shape)\n",
    "print(all_labels.shape)\n",
    "print(all_bottles.shape)"
   ]
  },
  {
   "cell_type": "code",
   "execution_count": null,
   "metadata": {
    "collapsed": false
   },
   "outputs": [],
   "source": [
    "all_images[0][75][75]"
   ]
  },
  {
   "cell_type": "code",
   "execution_count": null,
   "metadata": {
    "collapsed": false
   },
   "outputs": [],
   "source": [
    "all_labels[0]"
   ]
  },
  {
   "cell_type": "code",
   "execution_count": null,
   "metadata": {
    "collapsed": true
   },
   "outputs": [],
   "source": [
    "trained_dir1 = \"../corpi/gaussian_masked_20_50/\"\n",
    "corpus_dir1 = os.path.join(trained_dir, \"corpus\")\n",
    "bottle_dir1 = os.path.join(trained_dir, \"bottleneck\")"
   ]
  },
  {
   "cell_type": "code",
   "execution_count": null,
   "metadata": {
    "collapsed": false
   },
   "outputs": [],
   "source": [
    "all_images1, all_labels1, all_bottles1 = load_preprocessed_data(corpus_dir1, bottle_dir1, img_dims)"
   ]
  },
  {
   "cell_type": "code",
   "execution_count": null,
   "metadata": {
    "collapsed": false
   },
   "outputs": [],
   "source": [
    "print(all_images1.shape)\n",
    "print(all_labels1.shape)\n",
    "print(all_bottles1.shape)"
   ]
  },
  {
   "cell_type": "code",
   "execution_count": null,
   "metadata": {
    "collapsed": true
   },
   "outputs": [],
   "source": [
    "from utils.dataset import *"
   ]
  },
  {
   "cell_type": "code",
   "execution_count": null,
   "metadata": {
    "collapsed": false
   },
   "outputs": [],
   "source": [
    "ds_1 = Dataset(all_images, all_labels, all_bottles, split=split, one_hot=False, rnd_seed=rnd_seed)"
   ]
  },
  {
   "cell_type": "code",
   "execution_count": null,
   "metadata": {
    "collapsed": false
   },
   "outputs": [],
   "source": [
    "train_img_1 = ds_1.train.images \n",
    "train_lab_1 = ds_1.train.labels \n",
    "train_bot_1 = ds_1.train.bottles \n",
    "val_img_1 = ds_1.valid.images\n",
    "val_lab_1 = ds_1.valid.labels\n",
    "val_bot_1 = ds_1.valid.bottles\n",
    "test_img_1 = ds_1.test.images\n",
    "test_lab_1 = ds_1.test.labels\n",
    "test_bot_1 = ds_1.test.bottles\n"
   ]
  },
  {
   "cell_type": "code",
   "execution_count": null,
   "metadata": {
    "collapsed": false
   },
   "outputs": [],
   "source": [
    "print(type(train_img_1))\n",
    "print(train_img_1.shape)"
   ]
  },
  {
   "cell_type": "code",
   "execution_count": null,
   "metadata": {
    "collapsed": false
   },
   "outputs": [],
   "source": [
    "final_images = np.vstack((all_images1, train_img_1,val_img_1))\n",
    "final_bottles = np.vstack((all_bottles1, train_bot_1, val_bot_1))"
   ]
  },
  {
   "cell_type": "code",
   "execution_count": null,
   "metadata": {
    "collapsed": false
   },
   "outputs": [],
   "source": [
    "print(train_lab_1.shape)\n",
    "print(val_lab_1.shape)\n",
    "print(all_labels1.shape)"
   ]
  },
  {
   "cell_type": "code",
   "execution_count": null,
   "metadata": {
    "collapsed": false
   },
   "outputs": [],
   "source": [
    "final_labels = np.concatenate((all_labels1, train_lab_1, val_lab_1), axis=0)"
   ]
  },
  {
   "cell_type": "code",
   "execution_count": null,
   "metadata": {
    "collapsed": false
   },
   "outputs": [],
   "source": [
    "print(final_labels.shape)\n",
    "print(final_labels[0])"
   ]
  },
  {
   "cell_type": "code",
   "execution_count": null,
   "metadata": {
    "collapsed": false
   },
   "outputs": [],
   "source": [
    "ds = Dataset(final_images, final_labels, final_bottles, split=split, one_hot=True, rnd_seed=rnd_seed)"
   ]
  },
  {
   "cell_type": "code",
   "execution_count": null,
   "metadata": {
    "collapsed": false
   },
   "outputs": [],
   "source": [
    "ds.Y.shape"
   ]
  },
  {
   "cell_type": "code",
   "execution_count": null,
   "metadata": {
    "collapsed": true
   },
   "outputs": [],
   "source": [
    "import os"
   ]
  },
  {
   "cell_type": "code",
   "execution_count": null,
   "metadata": {
    "collapsed": true
   },
   "outputs": [],
   "source": [
    "model_dir = \"./mdl/\"\n",
    "if not os.path.isdir(model_dir):\n",
    "    os.makedirs(model_dir)"
   ]
  },
  {
   "cell_type": "code",
   "execution_count": null,
   "metadata": {
    "collapsed": false
   },
   "outputs": [],
   "source": [
    "\n",
    "model_path = os.path.join(model_dir, 'model.h5')\n",
    "if os.path.exists(model_path):\n",
    "    print('Loading model...')\n",
    "else:\n",
    "    print('Building Model..')"
   ]
  },
  {
   "cell_type": "code",
   "execution_count": null,
   "metadata": {
    "collapsed": false
   },
   "outputs": [],
   "source": [
    "epoch_count=5\n",
    "file_name = 'model_'+str(epoch_count)+'.h5'\n",
    "model_path_save = os.path.join(model_dir, file_name)\n",
    "print(model_path_save)"
   ]
  },
  {
   "cell_type": "code",
   "execution_count": 23,
   "metadata": {
    "collapsed": false
   },
   "outputs": [],
   "source": [
    "from sklearn.model_selection import train_test_split\n",
    "X, y = np.arange(200).reshape((100, 2)), range(100)"
   ]
  },
  {
   "cell_type": "code",
   "execution_count": 24,
   "metadata": {
    "collapsed": false
   },
   "outputs": [
    {
     "name": "stdout",
     "output_type": "stream",
     "text": [
      "[[  0   1]\n",
      " [  2   3]\n",
      " [  4   5]\n",
      " [  6   7]\n",
      " [  8   9]\n",
      " [ 10  11]\n",
      " [ 12  13]\n",
      " [ 14  15]\n",
      " [ 16  17]\n",
      " [ 18  19]\n",
      " [ 20  21]\n",
      " [ 22  23]\n",
      " [ 24  25]\n",
      " [ 26  27]\n",
      " [ 28  29]\n",
      " [ 30  31]\n",
      " [ 32  33]\n",
      " [ 34  35]\n",
      " [ 36  37]\n",
      " [ 38  39]\n",
      " [ 40  41]\n",
      " [ 42  43]\n",
      " [ 44  45]\n",
      " [ 46  47]\n",
      " [ 48  49]\n",
      " [ 50  51]\n",
      " [ 52  53]\n",
      " [ 54  55]\n",
      " [ 56  57]\n",
      " [ 58  59]\n",
      " [ 60  61]\n",
      " [ 62  63]\n",
      " [ 64  65]\n",
      " [ 66  67]\n",
      " [ 68  69]\n",
      " [ 70  71]\n",
      " [ 72  73]\n",
      " [ 74  75]\n",
      " [ 76  77]\n",
      " [ 78  79]\n",
      " [ 80  81]\n",
      " [ 82  83]\n",
      " [ 84  85]\n",
      " [ 86  87]\n",
      " [ 88  89]\n",
      " [ 90  91]\n",
      " [ 92  93]\n",
      " [ 94  95]\n",
      " [ 96  97]\n",
      " [ 98  99]\n",
      " [100 101]\n",
      " [102 103]\n",
      " [104 105]\n",
      " [106 107]\n",
      " [108 109]\n",
      " [110 111]\n",
      " [112 113]\n",
      " [114 115]\n",
      " [116 117]\n",
      " [118 119]\n",
      " [120 121]\n",
      " [122 123]\n",
      " [124 125]\n",
      " [126 127]\n",
      " [128 129]\n",
      " [130 131]\n",
      " [132 133]\n",
      " [134 135]\n",
      " [136 137]\n",
      " [138 139]\n",
      " [140 141]\n",
      " [142 143]\n",
      " [144 145]\n",
      " [146 147]\n",
      " [148 149]\n",
      " [150 151]\n",
      " [152 153]\n",
      " [154 155]\n",
      " [156 157]\n",
      " [158 159]\n",
      " [160 161]\n",
      " [162 163]\n",
      " [164 165]\n",
      " [166 167]\n",
      " [168 169]\n",
      " [170 171]\n",
      " [172 173]\n",
      " [174 175]\n",
      " [176 177]\n",
      " [178 179]\n",
      " [180 181]\n",
      " [182 183]\n",
      " [184 185]\n",
      " [186 187]\n",
      " [188 189]\n",
      " [190 191]\n",
      " [192 193]\n",
      " [194 195]\n",
      " [196 197]\n",
      " [198 199]]\n",
      "range(0, 100)\n"
     ]
    }
   ],
   "source": [
    "print(X)\n",
    "print(y)"
   ]
  },
  {
   "cell_type": "code",
   "execution_count": 25,
   "metadata": {
    "collapsed": true
   },
   "outputs": [],
   "source": [
    "X_train, X_test, y_train, y_test = train_test_split(X, y, test_size=0.33, random_state=42)"
   ]
  },
  {
   "cell_type": "code",
   "execution_count": 132,
   "metadata": {
    "collapsed": false
   },
   "outputs": [
    {
     "data": {
      "text/plain": [
       "array([[ 56,  57],\n",
       "       [186, 187],\n",
       "       [ 10,  11],\n",
       "       [132, 133],\n",
       "       [130, 131],\n",
       "       [ 70,  71],\n",
       "       [ 32,  33],\n",
       "       [ 98,  99],\n",
       "       [ 68,  69],\n",
       "       [ 14,  15],\n",
       "       [190, 191],\n",
       "       [ 54,  55],\n",
       "       [ 38,  39],\n",
       "       [162, 163],\n",
       "       [ 50,  51],\n",
       "       [124, 125],\n",
       "       [ 26,  27],\n",
       "       [ 48,  49],\n",
       "       [  6,   7],\n",
       "       [ 34,  35],\n",
       "       [ 76,  77],\n",
       "       [ 16,  17],\n",
       "       [156, 157],\n",
       "       [ 12,  13],\n",
       "       [128, 129],\n",
       "       [ 72,  73],\n",
       "       [178, 179],\n",
       "       [112, 113],\n",
       "       [198, 199],\n",
       "       [108, 109],\n",
       "       [ 86,  87],\n",
       "       [100, 101],\n",
       "       [134, 135],\n",
       "       [ 92,  93],\n",
       "       [136, 137],\n",
       "       [122, 123],\n",
       "       [194, 195],\n",
       "       [158, 159],\n",
       "       [ 82,  83],\n",
       "       [116, 117],\n",
       "       [ 96,  97],\n",
       "       [196, 197],\n",
       "       [114, 115],\n",
       "       [150, 151],\n",
       "       [ 64,  65],\n",
       "       [188, 189],\n",
       "       [118, 119],\n",
       "       [126, 127],\n",
       "       [168, 169],\n",
       "       [ 74,  75],\n",
       "       [ 58,  59],\n",
       "       [  2,   3],\n",
       "       [104, 105],\n",
       "       [ 42,  43],\n",
       "       [  4,   5],\n",
       "       [ 46,  47],\n",
       "       [174, 175],\n",
       "       [182, 183],\n",
       "       [148, 149],\n",
       "       [172, 173],\n",
       "       [164, 165],\n",
       "       [ 40,  41],\n",
       "       [120, 121],\n",
       "       [142, 143],\n",
       "       [ 28,  29],\n",
       "       [184, 185],\n",
       "       [102, 103]])"
      ]
     },
     "execution_count": 132,
     "metadata": {},
     "output_type": "execute_result"
    }
   ],
   "source": [
    "X_train"
   ]
  },
  {
   "cell_type": "code",
   "execution_count": 129,
   "metadata": {
    "collapsed": true
   },
   "outputs": [],
   "source": [
    "def get_batch(batch_ind, batch_size, X_train, y_train):\n",
    "    indices = np.arange(batch_ind*batch_size, (batch_ind+1)*batch_size)\n",
    "    print(indices[0])\n",
    "    print(indices[-1])\n",
    "    X_batch = X_train[indices[0]:indices[-1]]\n",
    "    y_batch = y_train[indices[0]:indices[-1]]\n",
    "    return X_batch, y_batch"
   ]
  },
  {
   "cell_type": "code",
   "execution_count": 130,
   "metadata": {
    "collapsed": false
   },
   "outputs": [
    {
     "name": "stdout",
     "output_type": "stream",
     "text": [
      "4\n"
     ]
    }
   ],
   "source": [
    "batch_size = 20\n",
    "n_imgs = 67\n",
    "n_batches = int(np.ceil(n_imgs/ batch_size))\n",
    "print(n_batches)"
   ]
  },
  {
   "cell_type": "code",
   "execution_count": 131,
   "metadata": {
    "collapsed": false
   },
   "outputs": [
    {
     "name": "stdout",
     "output_type": "stream",
     "text": [
      "0\n",
      "19\n",
      "[[ 56  57]\n",
      " [186 187]\n",
      " [ 10  11]\n",
      " [132 133]\n",
      " [130 131]\n",
      " [ 70  71]\n",
      " [ 32  33]\n",
      " [ 98  99]\n",
      " [ 68  69]\n",
      " [ 14  15]\n",
      " [190 191]\n",
      " [ 54  55]\n",
      " [ 38  39]\n",
      " [162 163]\n",
      " [ 50  51]\n",
      " [124 125]\n",
      " [ 26  27]\n",
      " [ 48  49]\n",
      " [  6   7]] [28, 93, 5, 66, 65, 35, 16, 49, 34, 7, 95, 27, 19, 81, 25, 62, 13, 24, 3]\n",
      "20\n",
      "39\n",
      "[[ 76  77]\n",
      " [ 16  17]\n",
      " [156 157]\n",
      " [ 12  13]\n",
      " [128 129]\n",
      " [ 72  73]\n",
      " [178 179]\n",
      " [112 113]\n",
      " [198 199]\n",
      " [108 109]\n",
      " [ 86  87]\n",
      " [100 101]\n",
      " [134 135]\n",
      " [ 92  93]\n",
      " [136 137]\n",
      " [122 123]\n",
      " [194 195]\n",
      " [158 159]\n",
      " [ 82  83]] [38, 8, 78, 6, 64, 36, 89, 56, 99, 54, 43, 50, 67, 46, 68, 61, 97, 79, 41]\n",
      "40\n",
      "59\n",
      "[[ 96  97]\n",
      " [196 197]\n",
      " [114 115]\n",
      " [150 151]\n",
      " [ 64  65]\n",
      " [188 189]\n",
      " [118 119]\n",
      " [126 127]\n",
      " [168 169]\n",
      " [ 74  75]\n",
      " [ 58  59]\n",
      " [  2   3]\n",
      " [104 105]\n",
      " [ 42  43]\n",
      " [  4   5]\n",
      " [ 46  47]\n",
      " [174 175]\n",
      " [182 183]\n",
      " [148 149]] [48, 98, 57, 75, 32, 94, 59, 63, 84, 37, 29, 1, 52, 21, 2, 23, 87, 91, 74]\n",
      "60\n",
      "79\n",
      "[[164 165]\n",
      " [ 40  41]\n",
      " [120 121]\n",
      " [142 143]\n",
      " [ 28  29]\n",
      " [184 185]\n",
      " [102 103]] [82, 20, 60, 71, 14, 92, 51]\n"
     ]
    }
   ],
   "source": [
    "for batch_ind in range(n_batches):\n",
    "    X_batch, y_batch = get_batch(batch_ind, batch_size, X_train, y_train)\n",
    "    print(X_batch, y_batch)"
   ]
  },
  {
   "cell_type": "code",
   "execution_count": 149,
   "metadata": {
    "collapsed": false
   },
   "outputs": [],
   "source": [
    "def batcher(X_train, y_train, size):\n",
    "    X_batch = [X_train[indx:indx + size] for indx in range(0, len(X_train), size)]\n",
    "    y_batch = [y_train[indx:indx + size] for indx in range(0, len(y_train), size)]\n",
    "    return zip(X_batch, y_batch)"
   ]
  },
  {
   "cell_type": "code",
   "execution_count": 155,
   "metadata": {
    "collapsed": false
   },
   "outputs": [
    {
     "name": "stdout",
     "output_type": "stream",
     "text": [
      "(20, 2)\n",
      "[28, 93, 5, 66, 65, 35, 16, 49, 34, 7, 95, 27, 19, 81, 25, 62, 13, 24, 3, 17]\n",
      "(20, 2)\n",
      "[38, 8, 78, 6, 64, 36, 89, 56, 99, 54, 43, 50, 67, 46, 68, 61, 97, 79, 41, 58]\n",
      "(20, 2)\n",
      "[48, 98, 57, 75, 32, 94, 59, 63, 84, 37, 29, 1, 52, 21, 2, 23, 87, 91, 74, 86]\n",
      "(7, 2)\n",
      "[82, 20, 60, 71, 14, 92, 51]\n"
     ]
    }
   ],
   "source": [
    "for group1, group2 in batcher(X_train, y_train, 20):\n",
    "    print(group1.shape)\n",
    "    print(group2)"
   ]
  },
  {
   "cell_type": "code",
   "execution_count": 92,
   "metadata": {
    "collapsed": false
   },
   "outputs": [
    {
     "data": {
      "text/plain": [
       "(<generator object batcher.<locals>.<genexpr> at 0x112d9a830>,\n",
       " <generator object batcher.<locals>.<genexpr> at 0x112d9a9e8>)"
      ]
     },
     "execution_count": 92,
     "metadata": {},
     "output_type": "execute_result"
    }
   ],
   "source": [
    "batcher(X_train, y_train, 20)"
   ]
  },
  {
   "cell_type": "code",
   "execution_count": 123,
   "metadata": {
    "collapsed": false
   },
   "outputs": [
    {
     "name": "stdout",
     "output_type": "stream",
     "text": [
      "0\n",
      "20\n",
      "40\n",
      "60\n"
     ]
    }
   ],
   "source": [
    "for indx in range(0, len(y_train), 20):\n",
    "    print(indx)"
   ]
  },
  {
   "cell_type": "code",
   "execution_count": null,
   "metadata": {
    "collapsed": true
   },
   "outputs": [],
   "source": []
  }
 ],
 "metadata": {
  "kernelspec": {
   "display_name": "Python 3",
   "language": "python",
   "name": "python3"
  },
  "language_info": {
   "codemirror_mode": {
    "name": "ipython",
    "version": 3
   },
   "file_extension": ".py",
   "mimetype": "text/x-python",
   "name": "python",
   "nbconvert_exporter": "python",
   "pygments_lexer": "ipython3",
   "version": "3.6.0"
  }
 },
 "nbformat": 4,
 "nbformat_minor": 2
}
