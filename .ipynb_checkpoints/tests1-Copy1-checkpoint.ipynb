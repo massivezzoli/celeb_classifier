{
 "cells": [
  {
   "cell_type": "code",
   "execution_count": 1,
   "metadata": {
    "collapsed": true
   },
   "outputs": [],
   "source": [
    "import numpy as np\n",
    "import matplotlib.pyplot as plt\n",
    "import matplotlib.colors as colors"
   ]
  },
  {
   "cell_type": "code",
   "execution_count": 2,
   "metadata": {
    "collapsed": false
   },
   "outputs": [],
   "source": [
    "from utils.configuration import *\n",
    "#from utils.load_data import *\n",
    "#from utils.dataset import *\n",
    "#from utils.preprocessing import *\n",
    "#from utils.model import *\n",
    "#from utils.reporting import *\n",
    "#from utils.visualization import *\n",
    "#from utils.pca_tsne import *\n",
    "from utils.load_preprocessed import *\n",
    "from sklearn.model_selection import train_test_split\n",
    "from sklearn.preprocessing import LabelEncoder\n",
    "from sklearn.preprocessing import OneHotEncoder\n",
    "enc = OneHotEncoder()\n",
    "lab_enc = LabelEncoder()\n"
   ]
  },
  {
   "cell_type": "code",
   "execution_count": 3,
   "metadata": {
    "collapsed": false
   },
   "outputs": [],
   "source": [
    "# Get raw data 1\n",
    "all_images1, all_labels1, all_bottles1 = load_preprocessed_data(corpus_dir, bottle_dir, img_dims)"
   ]
  },
  {
   "cell_type": "code",
   "execution_count": 4,
   "metadata": {
    "collapsed": false
   },
   "outputs": [
    {
     "name": "stdout",
     "output_type": "stream",
     "text": [
      "(999, 150, 150, 3)\n",
      "(999,)\n",
      "(999, 2048)\n"
     ]
    }
   ],
   "source": [
    "print(all_images1.shape)\n",
    "print(all_labels1.shape)\n",
    "print(all_bottles1.shape)"
   ]
  },
  {
   "cell_type": "code",
   "execution_count": 5,
   "metadata": {
    "collapsed": true
   },
   "outputs": [],
   "source": [
    "trained_dir1 = \"../corpi/gaussian_masked_20_50/\"\n",
    "corpus_dir1 = os.path.join(trained_dir, \"corpus\")\n",
    "bottle_dir1 = os.path.join(trained_dir, \"bottleneck\")"
   ]
  },
  {
   "cell_type": "code",
   "execution_count": 6,
   "metadata": {
    "collapsed": false
   },
   "outputs": [],
   "source": [
    "# Get Raw data 2\n",
    "\n",
    "all_images2, all_labels2, all_bottles2 = load_preprocessed_data(corpus_dir1, bottle_dir1, img_dims)"
   ]
  },
  {
   "cell_type": "code",
   "execution_count": 7,
   "metadata": {
    "collapsed": false
   },
   "outputs": [
    {
     "name": "stdout",
     "output_type": "stream",
     "text": [
      "(999, 150, 150, 3)\n",
      "(999,)\n",
      "(999, 2048)\n"
     ]
    }
   ],
   "source": [
    "print(all_images2.shape)\n",
    "print(all_labels2.shape)\n",
    "print(all_bottles2.shape)"
   ]
  },
  {
   "cell_type": "markdown",
   "metadata": {},
   "source": [
    "### Create test_train split for first corpus"
   ]
  },
  {
   "cell_type": "code",
   "execution_count": 8,
   "metadata": {
    "collapsed": false
   },
   "outputs": [],
   "source": [
    "imgs_train1, imgs_test1, bot_train1, bot_test1, lab_train1, lab_test1 = train_test_split(all_images1, all_bottles1,\n",
    "                                                                                         all_labels1, test_size=0.15, \n",
    "                                                                                         stratify=all_labels1, random_state=42)"
   ]
  },
  {
   "cell_type": "code",
   "execution_count": 9,
   "metadata": {
    "collapsed": false
   },
   "outputs": [
    {
     "name": "stdout",
     "output_type": "stream",
     "text": [
      "(849, 150, 150, 3)\n",
      "(150, 150, 150, 3)\n",
      "(849, 2048)\n",
      "(150,)\n"
     ]
    }
   ],
   "source": [
    "print(imgs_train1.shape)\n",
    "print(imgs_test1.shape)\n",
    "print(bot_train1.shape)\n",
    "print(lab_test1.shape)\n"
   ]
  },
  {
   "cell_type": "code",
   "execution_count": null,
   "metadata": {
    "collapsed": false
   },
   "outputs": [],
   "source": [
    "print(lab_test1[0])\n",
    "print(bot_test1[0])"
   ]
  },
  {
   "cell_type": "markdown",
   "metadata": {},
   "source": [
    "#### Create validation split"
   ]
  },
  {
   "cell_type": "code",
   "execution_count": null,
   "metadata": {
    "collapsed": true
   },
   "outputs": [],
   "source": [
    "imgs_train1, imgs_val1, bot_train1, bot_val1, lab_train1, lab_val1 = train_test_split(imgs_train1, bot_train1,\n",
    "                                                                                         lab_train1, test_size=0.1765, \n",
    "                                                                                         stratify=lab_train1, random_state=42)"
   ]
  },
  {
   "cell_type": "code",
   "execution_count": null,
   "metadata": {
    "collapsed": false
   },
   "outputs": [],
   "source": [
    "print(imgs_train1.shape)\n",
    "print(imgs_val1.shape)\n",
    "print(bot_train1.shape[1])\n",
    "print(lab_val1.shape)\n"
   ]
  },
  {
   "cell_type": "code",
   "execution_count": null,
   "metadata": {
    "collapsed": true
   },
   "outputs": [],
   "source": [
    "lab_train_le = lab_enc.fit_transform(lab_train1)\n",
    "lab_train_ohe = enc.fit_transform(lab_train_le.reshape(-1,1)).toarray()\n",
    "#lab_train_ohe[233]\n",
    "\n",
    "lab_val_le = lab_enc.fit_transform(lab_val1)\n",
    "lab_val_ohe = enc.fit_transform(lab_val_le.reshape(-1,1)).toarray()\n",
    "\n",
    "lab_test_le = lab_enc.fit_transform(lab_test1)\n",
    "lab_test_ohe = enc.fit_transform(lab_test_le.reshape(-1,1)).toarray()"
   ]
  },
  {
   "cell_type": "code",
   "execution_count": null,
   "metadata": {
    "collapsed": false
   },
   "outputs": [],
   "source": [
    "lab_test_ohe[32]"
   ]
  },
  {
   "cell_type": "code",
   "execution_count": null,
   "metadata": {
    "collapsed": false
   },
   "outputs": [],
   "source": [
    "lab_train_ohe.shape[1]"
   ]
  },
  {
   "cell_type": "markdown",
   "metadata": {},
   "source": [
    "### Create train test split for second corpus"
   ]
  },
  {
   "cell_type": "code",
   "execution_count": null,
   "metadata": {
    "collapsed": true
   },
   "outputs": [],
   "source": [
    "imgs_train2, imgs_test2, bot_train2, bot_test2, lab_train2, lab_test2 = train_test_split(all_images2, all_bottles2,\n",
    "                                                                                         all_labels2, test_size=0.2, \n",
    "                                                                                         stratify=all_labels2, random_state=42)"
   ]
  },
  {
   "cell_type": "code",
   "execution_count": null,
   "metadata": {
    "collapsed": false
   },
   "outputs": [],
   "source": [
    "print(imgs_train2.shape)\n",
    "print(imgs_test2.shape)\n",
    "print(bot_train2.shape)\n",
    "print(lab_test2.shape)"
   ]
  },
  {
   "cell_type": "code",
   "execution_count": null,
   "metadata": {
    "collapsed": false
   },
   "outputs": [],
   "source": [
    "train_imgs = np.vstack((imgs_train1, imgs_train2))\n",
    "train_bots = np.vstack((bot_train1, bot_train2))\n",
    "#train_lab = np.vstack((lab_train1, lab_train2))\n",
    "train_lab = np.concatenate((lab_train1, lab_train2), axis=0)"
   ]
  },
  {
   "cell_type": "code",
   "execution_count": null,
   "metadata": {
    "collapsed": false
   },
   "outputs": [],
   "source": [
    "print(train_imgs.shape)\n",
    "print(train_bots.shape)\n",
    "print(train_lab.shape)"
   ]
  },
  {
   "cell_type": "code",
   "execution_count": null,
   "metadata": {
    "collapsed": false
   },
   "outputs": [],
   "source": [
    "train_lab[0]"
   ]
  },
  {
   "cell_type": "code",
   "execution_count": null,
   "metadata": {
    "collapsed": false
   },
   "outputs": [],
   "source": []
  },
  {
   "cell_type": "code",
   "execution_count": null,
   "metadata": {
    "collapsed": false
   },
   "outputs": [],
   "source": [
    "train_lab_le = lab_enc.fit_transform(train_lab)"
   ]
  },
  {
   "cell_type": "code",
   "execution_count": null,
   "metadata": {
    "collapsed": false
   },
   "outputs": [],
   "source": [
    "print(train_lab_ohe[0])\n",
    "print(list(lab_enc.classes_))\n"
   ]
  },
  {
   "cell_type": "code",
   "execution_count": null,
   "metadata": {
    "collapsed": false
   },
   "outputs": [],
   "source": [
    "train_lab_ohe = enc.fit_transform(train_lab_le.reshape(-1,1)).toarray()"
   ]
  },
  {
   "cell_type": "code",
   "execution_count": null,
   "metadata": {
    "collapsed": false
   },
   "outputs": [],
   "source": [
    "train_lab_ohe[0]"
   ]
  },
  {
   "cell_type": "code",
   "execution_count": null,
   "metadata": {
    "collapsed": true
   },
   "outputs": [],
   "source": []
  },
  {
   "cell_type": "code",
   "execution_count": null,
   "metadata": {
    "collapsed": true
   },
   "outputs": [],
   "source": []
  },
  {
   "cell_type": "code",
   "execution_count": null,
   "metadata": {
    "collapsed": true
   },
   "outputs": [],
   "source": []
  },
  {
   "cell_type": "code",
   "execution_count": null,
   "metadata": {
    "collapsed": true
   },
   "outputs": [],
   "source": [
    "def batch(iterable, n=1):\n",
    "    l = len(iterable)\n",
    "    for ndx in range(0, l, n):\n",
    "        yield iterable[ndx:min(ndx + n, l)]"
   ]
  },
  {
   "cell_type": "code",
   "execution_count": null,
   "metadata": {
    "collapsed": false
   },
   "outputs": [],
   "source": [
    "for x in batch(range(0, 10), 3):\n",
    "    print(x)"
   ]
  },
  {
   "cell_type": "code",
   "execution_count": null,
   "metadata": {
    "collapsed": true
   },
   "outputs": [],
   "source": []
  }
 ],
 "metadata": {
  "kernelspec": {
   "display_name": "Python 3",
   "language": "python",
   "name": "python3"
  },
  "language_info": {
   "codemirror_mode": {
    "name": "ipython",
    "version": 3
   },
   "file_extension": ".py",
   "mimetype": "text/x-python",
   "name": "python",
   "nbconvert_exporter": "python",
   "pygments_lexer": "ipython3",
   "version": "3.6.0"
  }
 },
 "nbformat": 4,
 "nbformat_minor": 2
}
