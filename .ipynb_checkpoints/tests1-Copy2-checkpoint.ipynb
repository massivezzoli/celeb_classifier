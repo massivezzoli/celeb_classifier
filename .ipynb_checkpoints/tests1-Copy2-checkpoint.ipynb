{
 "cells": [
  {
   "cell_type": "code",
   "execution_count": 2,
   "metadata": {
    "collapsed": true
   },
   "outputs": [],
   "source": [
    "import numpy as np\n",
    "import matplotlib.pyplot as plt\n",
    "import matplotlib.colors as colors"
   ]
  },
  {
   "cell_type": "code",
   "execution_count": 3,
   "metadata": {
    "collapsed": false
   },
   "outputs": [],
   "source": [
    "from utils.configuration import *\n",
    "#from utils.load_data import *\n",
    "#from utils.dataset import *\n",
    "#from utils.preprocessing import *\n",
    "#from utils.model import *\n",
    "#from utils.reporting import *\n",
    "#from utils.visualization import *\n",
    "#from utils.pca_tsne import *\n",
    "from utils.load_preprocessed import *\n",
    "from sklearn.model_selection import train_test_split\n",
    "from sklearn.preprocessing import LabelEncoder\n",
    "from sklearn.preprocessing import OneHotEncoder\n",
    "enc = OneHotEncoder()\n",
    "lab_enc = LabelEncoder()\n"
   ]
  },
  {
   "cell_type": "code",
   "execution_count": 4,
   "metadata": {
    "collapsed": false
   },
   "outputs": [],
   "source": [
    "# Get raw data 1\n",
    "all_images1, all_labels1, all_bottles1 = load_preprocessed_data(corpus_dir, \n",
    "                                                                bottle_dir, img_dims)"
   ]
  },
  {
   "cell_type": "code",
   "execution_count": null,
   "metadata": {
    "collapsed": false
   },
   "outputs": [],
   "source": [
    "print(all_images1.shape)\n",
    "print(all_labels1.shape)\n",
    "print(all_bottles1.shape)"
   ]
  },
  {
   "cell_type": "code",
   "execution_count": 5,
   "metadata": {
    "collapsed": true
   },
   "outputs": [],
   "source": [
    "trained_dir1 = \"../corpi/gaussian_masked_20_50/\"\n",
    "corpus_dir1 = os.path.join(trained_dir, \"corpus\")\n",
    "bottle_dir1 = os.path.join(trained_dir, \"bottleneck\")"
   ]
  },
  {
   "cell_type": "code",
   "execution_count": 6,
   "metadata": {
    "collapsed": false
   },
   "outputs": [],
   "source": [
    "# Get Raw data 2\n",
    "all_images2, all_labels2, all_bottles2 = load_preprocessed_data(corpus_dir1, \n",
    "                                                                bottle_dir1, img_dims)"
   ]
  },
  {
   "cell_type": "code",
   "execution_count": null,
   "metadata": {
    "collapsed": false
   },
   "outputs": [],
   "source": [
    "print(all_images2.shape)\n",
    "print(all_labels2.shape)\n",
    "print(all_bottles2.shape)"
   ]
  },
  {
   "cell_type": "markdown",
   "metadata": {},
   "source": [
    "### Create test_train split for first and second corpus"
   ]
  },
  {
   "cell_type": "code",
   "execution_count": 7,
   "metadata": {
    "collapsed": false
   },
   "outputs": [],
   "source": [
    "i_train1, i_test1, b_train1, b_test1, l_train1, l_test1 = train_test_split(all_images1, all_bottles1,\n",
    "                                                      all_labels1, test_size=0.15, \n",
    "                                                      stratify=all_labels1, random_state=42)\n",
    "\n",
    "i_train2, i_test2, b_train2, b_test2, l_train2, l_test2 = train_test_split(all_images2, all_bottles2,\n",
    "                                                                                         all_labels2, test_size=0.15, \n",
    "                                                                                         stratify=all_labels1, random_state=42)"
   ]
  },
  {
   "cell_type": "code",
   "execution_count": 9,
   "metadata": {
    "collapsed": true
   },
   "outputs": [],
   "source": [
    "imgs_train = np.vstack((i_train1, i_train2))\n",
    "bots_train = np.vstack((b_train1, b_train2))\n",
    "lab_train = np.concatenate((l_train1, l_train2), axis=0)"
   ]
  },
  {
   "cell_type": "code",
   "execution_count": null,
   "metadata": {
    "collapsed": false
   },
   "outputs": [],
   "source": [
    "print(imgs_train.shape)\n",
    "print(bots_train.shape)\n",
    "print(lab_train.shape)"
   ]
  },
  {
   "cell_type": "code",
   "execution_count": 10,
   "metadata": {
    "collapsed": true
   },
   "outputs": [],
   "source": [
    "imgs_test = np.vstack((i_test1, i_test2))\n",
    "bots_test = np.vstack((b_test1, b_test2))\n",
    "lab_test = np.concatenate((l_test1, l_test2), axis=0)"
   ]
  },
  {
   "cell_type": "code",
   "execution_count": 12,
   "metadata": {
    "collapsed": false
   },
   "outputs": [],
   "source": [
    "lab_train_le = lab_enc.fit_transform(lab_train)\n",
    "lab_train_ohe = enc.fit_transform(lab_train_le.reshape(-1,1)).toarray()"
   ]
  },
  {
   "cell_type": "code",
   "execution_count": 13,
   "metadata": {
    "collapsed": false
   },
   "outputs": [
    {
     "data": {
      "text/plain": [
       "(1698, 20)"
      ]
     },
     "execution_count": 13,
     "metadata": {},
     "output_type": "execute_result"
    }
   ],
   "source": [
    "lab_train_ohe.shape"
   ]
  },
  {
   "cell_type": "code",
   "execution_count": 14,
   "metadata": {
    "collapsed": true
   },
   "outputs": [],
   "source": [
    "lab_test_le = lab_enc.fit_transform(lab_test)\n",
    "lab_test_ohe = enc.fit_transform(lab_test_le.reshape(-1,1)).toarray()"
   ]
  },
  {
   "cell_type": "code",
   "execution_count": 15,
   "metadata": {
    "collapsed": false
   },
   "outputs": [
    {
     "data": {
      "text/plain": [
       "['m.03n08b', 'm.0546hg', 'm.0k907r2', 'm.083dgs']"
      ]
     },
     "execution_count": 15,
     "metadata": {},
     "output_type": "execute_result"
    }
   ],
   "source": [
    "list(lab_enc.inverse_transform([3,5, 19, 11]))"
   ]
  },
  {
   "cell_type": "raw",
   "metadata": {},
   "source": [
    "for num in range(50):\n",
    "    print(test_lab_ohe[num])\n",
    "    print(test_lab[num])"
   ]
  },
  {
   "cell_type": "raw",
   "metadata": {},
   "source": [
    "for num1 in range(50):\n",
    "    print(train_lab_ohe[num1])\n",
    "    print(train_lab[num1])"
   ]
  },
  {
   "cell_type": "code",
   "execution_count": null,
   "metadata": {
    "collapsed": true
   },
   "outputs": [],
   "source": []
  },
  {
   "cell_type": "code",
   "execution_count": 16,
   "metadata": {
    "collapsed": false
   },
   "outputs": [],
   "source": [
    "imgs_train, imgs_val, bots_train, bots_val, lab_train_ohe, lab_val_ohe = train_test_split(imgs_train, bots_train,\n",
    "                                                                  lab_train_ohe, test_size=0.15, \n",
    "                                                                  stratify=lab_train_ohe, random_state=42)"
   ]
  },
  {
   "cell_type": "code",
   "execution_count": 20,
   "metadata": {
    "collapsed": false
   },
   "outputs": [
    {
     "name": "stdout",
     "output_type": "stream",
     "text": [
      "(1443, 150, 150, 3)\n",
      "(255, 150, 150, 3)\n",
      "(1443, 2048)\n",
      "(1443, 20)\n"
     ]
    }
   ],
   "source": [
    "print(imgs_train.shape)\n",
    "print(imgs_val.shape)\n",
    "print(bots_train.shape)\n",
    "print(lab_train_ohe.shape)"
   ]
  },
  {
   "cell_type": "code",
   "execution_count": 22,
   "metadata": {
    "collapsed": false
   },
   "outputs": [],
   "source": [
    "# Layers sizes\n",
    "bot_lay_size = bots_train.shape[1]\n",
    "n_train_imgs = imgs_train.shape[0]\n",
    "n_test_imgs = imgs_test.shape[0]\n",
    "n_classes = lab_train_ohe.shape[1]"
   ]
  },
  {
   "cell_type": "code",
   "execution_count": 38,
   "metadata": {
    "collapsed": false
   },
   "outputs": [],
   "source": [
    "#set up np.array to store values for all images\n",
    "test_train = np.zeros(shape=(imgs_train.shape))\n",
    "labels_train = np.zeros(shape=(n_train_imgs, n_classes))\n",
    "tensor_test = np.zeros(shape=(imgs_test.shape))\n",
    "labels_test = np.zeros(shape=(n_test_imgs, n_classes))"
   ]
  },
  {
   "cell_type": "code",
   "execution_count": 32,
   "metadata": {
    "collapsed": true
   },
   "outputs": [],
   "source": [
    "def batcher(X_train, y_train, size):\n",
    "    X_batch = [X_train[indx:indx + size] for indx in range(0, len(X_train), size)]\n",
    "    y_batch = [y_train[indx:indx + size] for indx in range(0, len(y_train), size)]\n",
    "    return zip(X_batch, y_batch)"
   ]
  },
  {
   "cell_type": "code",
   "execution_count": 33,
   "metadata": {
    "collapsed": false
   },
   "outputs": [],
   "source": [
    "counter = 0\n",
    "bot_batch = 20\n",
    "# get train set bottleneck activation values:\n",
    "for batch_x, batch_y in batcher(imgs_train, lab_train_ohe, 20):\n",
    "    bot_train = batch_x\n",
    "    test_train[counter:counter+bot_batch] = bot_train\n",
    "    labels_train[counter:counter+bot_batch] = batch_y\n",
    "    counter += bot_batch"
   ]
  },
  {
   "cell_type": "code",
   "execution_count": 34,
   "metadata": {
    "collapsed": false
   },
   "outputs": [
    {
     "data": {
      "text/plain": [
       "(1443, 150, 150, 3)"
      ]
     },
     "execution_count": 34,
     "metadata": {},
     "output_type": "execute_result"
    }
   ],
   "source": [
    "test_train.shape"
   ]
  },
  {
   "cell_type": "code",
   "execution_count": 40,
   "metadata": {
    "collapsed": false
   },
   "outputs": [],
   "source": [
    "counter = 0\n",
    "for batch_x, batch_y in batcher(imgs_test, lab_test_ohe, 20):\n",
    "    bot_train = batch_x\n",
    "    tensor_test[counter:counter+bot_batch] = bot_train\n",
    "    labels_test[counter:counter+bot_batch] = batch_y\n",
    "    counter += bot_batch"
   ]
  },
  {
   "cell_type": "code",
   "execution_count": 41,
   "metadata": {
    "collapsed": false
   },
   "outputs": [
    {
     "data": {
      "text/plain": [
       "(300, 150, 150, 3)"
      ]
     },
     "execution_count": 41,
     "metadata": {},
     "output_type": "execute_result"
    }
   ],
   "source": [
    "tensor_test.shape"
   ]
  },
  {
   "cell_type": "code",
   "execution_count": 42,
   "metadata": {
    "collapsed": false
   },
   "outputs": [
    {
     "data": {
      "text/plain": [
       "(300, 20)"
      ]
     },
     "execution_count": 42,
     "metadata": {},
     "output_type": "execute_result"
    }
   ],
   "source": [
    "labels_test.shape"
   ]
  },
  {
   "cell_type": "code",
   "execution_count": null,
   "metadata": {
    "collapsed": true
   },
   "outputs": [],
   "source": []
  }
 ],
 "metadata": {
  "kernelspec": {
   "display_name": "Python 3",
   "language": "python",
   "name": "python3"
  },
  "language_info": {
   "codemirror_mode": {
    "name": "ipython",
    "version": 3
   },
   "file_extension": ".py",
   "mimetype": "text/x-python",
   "name": "python",
   "nbconvert_exporter": "python",
   "pygments_lexer": "ipython3",
   "version": "3.6.0"
  }
 },
 "nbformat": 4,
 "nbformat_minor": 2
}
